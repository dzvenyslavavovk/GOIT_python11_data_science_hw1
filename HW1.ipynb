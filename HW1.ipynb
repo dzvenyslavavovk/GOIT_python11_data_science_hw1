{
 "cells": [
  {
   "cell_type": "code",
   "execution_count": 4,
   "id": "3fd48589-4bb2-4c38-90a8-82c533e46e7b",
   "metadata": {},
   "outputs": [],
   "source": [
    "import numpy as np"
   ]
  },
  {
   "cell_type": "code",
   "execution_count": 72,
   "id": "1fa48949-25a8-4a16-a882-e13df33977d8",
   "metadata": {},
   "outputs": [
    {
     "name": "stdout",
     "output_type": "stream",
     "text": [
      "a =  [ 1  2  3  4  5  6  7  8  9 10]\n"
     ]
    }
   ],
   "source": [
    "#1.Створіть одновимірний масив (вектор) з першими 10-ма натуральними числами та виведіть його значення.\n",
    "a = np.array([1, 2, 3, 4, 5, 6, 7, 8, 9, 10], dtype=int)\n",
    "print('a = ',a)"
   ]
  },
  {
   "cell_type": "code",
   "execution_count": 74,
   "id": "92b0ff2f-5aa3-4703-b27d-ea6eb29179af",
   "metadata": {},
   "outputs": [
    {
     "name": "stdout",
     "output_type": "stream",
     "text": [
      "B =  [[0 0 0]\n",
      " [0 0 0]\n",
      " [0 0 0]]\n"
     ]
    }
   ],
   "source": [
    "#2.Створіть двовимірний масив (матрицю) розміром 3x3, заповніть його нулями та виведіть його значення.\n",
    "b = np.zeros((3, 3), dtype=int)\n",
    "print('B = ',b)"
   ]
  },
  {
   "cell_type": "code",
   "execution_count": 76,
   "id": "ee789bb1-69be-4e6f-b0ef-8c323da501ed",
   "metadata": {},
   "outputs": [
    {
     "name": "stdout",
     "output_type": "stream",
     "text": [
      "C =  [[ 9  1  9  4  7]\n",
      " [ 8  8  2 10  7]\n",
      " [ 7  3  8  2  4]\n",
      " [ 7  3  5  8  7]\n",
      " [ 2  3  3 10  4]]\n"
     ]
    }
   ],
   "source": [
    "#3.Створіть масив розміром 5x5, заповніть його випадковими цілими числами в діапазоні від 1 до 10 та виведіть його значення.\n",
    "c = np.random.randint(1, 11, (5, 5))\n",
    "print('C = ',c)"
   ]
  },
  {
   "cell_type": "code",
   "execution_count": 78,
   "id": "7ff2a351-d579-4cae-a5d0-a0dc64a5cee4",
   "metadata": {},
   "outputs": [
    {
     "name": "stdout",
     "output_type": "stream",
     "text": [
      "D =  [[0.64167261 0.21238363 0.56141555 0.03728706]\n",
      " [0.81059511 0.85822221 0.73962477 0.35790939]\n",
      " [0.54510541 0.15817901 0.61276333 0.48474706]\n",
      " [0.87638496 0.93538739 0.93139126 0.86050874]]\n"
     ]
    }
   ],
   "source": [
    "#4.Створіть масив розміром 4x4, заповніть його випадковими дійсними числами в \n",
    "#діапазоні від 0 до 1 та виведіть його значення.\n",
    "d = np.random.random((4, 4))\n",
    "print('D = ',d)"
   ]
  },
  {
   "cell_type": "code",
   "execution_count": 80,
   "id": "fc57ee86-a25d-4fea-86fc-a6b9af9a9486",
   "metadata": {},
   "outputs": [
    {
     "name": "stdout",
     "output_type": "stream",
     "text": [
      "e =  [ 6 10  6  1  9]\n",
      "f =  [3 7 9 1 4]\n",
      "e + f =  [ 9 17 15  2 13]\n",
      "e - f =  [ 3  3 -3  0  5]\n",
      "e * f =  [18 70 54  1 36]\n"
     ]
    }
   ],
   "source": [
    "#5.Створіть два одновимірних масиви розміром 5, заповніть їх випадковими цілими числами в діапазоні від 1 \n",
    "#до 10 та виконайте на них поелементні операції додавання, віднімання та множення.\n",
    "e=np.random.randint(1,11,5)\n",
    "print('e = ',e)\n",
    "f=np.random.randint(1,11,5)\n",
    "print('f = ',f)\n",
    "print('e + f = ', e + f)\n",
    "print('e - f = ', e - f)\n",
    "print('e * f = ', e * f)"
   ]
  },
  {
   "cell_type": "code",
   "execution_count": 82,
   "id": "9e759942-23ab-4f48-9e4c-fd672dbe1455",
   "metadata": {},
   "outputs": [
    {
     "name": "stdout",
     "output_type": "stream",
     "text": [
      "h =  [0.67437248 0.02491663 0.04571165 0.40896244 0.06268301 0.05568964\n",
      " 0.328531  ]\n",
      "i =  [0.79822266 0.16568882 0.35244868 0.25492491 0.86456848 0.60801172\n",
      " 0.95257692]\n",
      "(h⋅i) =  1.0637982767821892\n"
     ]
    }
   ],
   "source": [
    "#6.Створіть два вектори розміром 7, заповніть довільними числами та знайдіть їх скалярний добуток.\n",
    "h = np.random.random(7)\n",
    "print('h = ', h)\n",
    "i = np.random.random(7)\n",
    "print('i = ', i)\n",
    "print('(h⋅i) = ', np.dot(h, i))"
   ]
  },
  {
   "cell_type": "code",
   "execution_count": 84,
   "id": "b5211e69-a17e-4227-b990-34a4a80c6d8e",
   "metadata": {},
   "outputs": [
    {
     "name": "stdout",
     "output_type": "stream",
     "text": [
      "J =  [[ 7  2]\n",
      " [ 5 10]]\n",
      "K =  [[ 1  1  1]\n",
      " [10 10  1]]\n",
      "J * K =  [[ 27  27   9]\n",
      " [105 105  15]]\n"
     ]
    }
   ],
   "source": [
    "#7.Створіть дві матриці розміром 2x2 та 2x3, заповніть їх випадковими цілими числами в діапазоні\n",
    "#від 1 до 10 та перемножте їх між собою.\n",
    "j = np.random.randint(1, 11, (2, 2))\n",
    "print('J = ', j)\n",
    "k = np.random.randint(1, 11, (2, 3))\n",
    "print('K = ', k)\n",
    "result = np.dot(j, k)\n",
    "print('J * K = ', result)"
   ]
  },
  {
   "cell_type": "code",
   "execution_count": 86,
   "id": "07a82e9b-7165-4a98-836b-3e2a79335bf7",
   "metadata": {},
   "outputs": [
    {
     "name": "stdout",
     "output_type": "stream",
     "text": [
      "L =  [[ 6  7  4]\n",
      " [ 5 10  2]\n",
      " [ 2  2  9]]\n",
      "L^(-1) =  [[ 0.45502646 -0.29100529 -0.13756614]\n",
      " [-0.21693122  0.24338624  0.04232804]\n",
      " [-0.05291005  0.01058201  0.13227513]]\n"
     ]
    }
   ],
   "source": [
    "#8.Створіть матрицю розміром 3x3, заповніть її випадковими цілими числами в діапазоні \n",
    "#від 1 до 10 та знайдіть її обернену матрицю.\n",
    "l = np.random.randint(1, 11, (3, 3))\n",
    "print('L = ', l)\n",
    "l_inv = np.linalg.inv(l)\n",
    "print('L^(-1) = ',l_inv)"
   ]
  },
  {
   "cell_type": "code",
   "execution_count": 88,
   "id": "0a6aafda-2788-4dd4-8557-c6b76ad671e7",
   "metadata": {},
   "outputs": [
    {
     "name": "stdout",
     "output_type": "stream",
     "text": [
      "K =  [[0.51490862 0.30047585 0.78413221 0.26142011]\n",
      " [0.14474549 0.50233515 0.15283313 0.28700807]\n",
      " [0.9189279  0.36573372 0.29758889 0.58990965]\n",
      " [0.64423614 0.50870496 0.9698922  0.96235574]]\n",
      "K^T =  [[0.51490862 0.14474549 0.9189279  0.64423614]\n",
      " [0.30047585 0.50233515 0.36573372 0.50870496]\n",
      " [0.78413221 0.15283313 0.29758889 0.9698922 ]\n",
      " [0.26142011 0.28700807 0.58990965 0.96235574]]\n"
     ]
    }
   ],
   "source": [
    "#9.Створіть матрицю розміром 4x4, заповніть її випадковими дійсними числами в діапазоні \n",
    "#від 0 до 1 та транспонуйте її.\n",
    "k = np.random.random((4, 4))\n",
    "print('K = ', k)\n",
    "result = k.T\n",
    "print('K^T = ',result)"
   ]
  },
  {
   "cell_type": "code",
   "execution_count": 90,
   "id": "ae0467df-4259-43fd-a00b-74f101591196",
   "metadata": {},
   "outputs": [
    {
     "name": "stdout",
     "output_type": "stream",
     "text": [
      "M =  [[ 7  9 10  2]\n",
      " [ 5 10  4  1]\n",
      " [ 9 10  4  7]]\n",
      "n =  [ 9 10  1  3]\n",
      "M * n =  [169 152 206]\n"
     ]
    }
   ],
   "source": [
    "#10. Створіть матрицю розміром 3x4 та вектор розміром 4, заповніть їх випадковими цілими числами в діапазоні\n",
    "#від 1 до 10 та перемножте матрицю на вектор.\n",
    "m = np.random.randint(1, 11, (3, 4))\n",
    "print('M = ', m)\n",
    "n=np.random.randint(1,11,4)\n",
    "print('n = ',n)\n",
    "result=np.dot(m, n)\n",
    "print('M * n = ',result)"
   ]
  },
  {
   "cell_type": "code",
   "execution_count": 92,
   "id": "669f5055-2833-427f-b04d-24436d6ea747",
   "metadata": {},
   "outputs": [
    {
     "name": "stdout",
     "output_type": "stream",
     "text": [
      "M =  [[0.68970815 0.34973499 0.14922573]\n",
      " [0.47495513 0.2289049  0.59031519]]\n",
      "n =  [0.25442835 0.38030097 0.5742985 ]\n",
      "M * n =  [0.39418598 0.54691193]\n"
     ]
    }
   ],
   "source": [
    "#11.Створіть матрицю розміром 2x3 та вектор розміром 3, заповніть їх випадковими дійсними числами в діапазоні\n",
    "#від 0 до 1 та перемножте матрицю на вектор.\n",
    "m = np.random.random((2, 3))\n",
    "print('M = ', m)\n",
    "n=np.random.random(3)\n",
    "print('n = ',n)\n",
    "result=np.dot(m, n)\n",
    "print('M * n = ',result)"
   ]
  },
  {
   "cell_type": "code",
   "execution_count": 98,
   "id": "f31a9683-4bcf-45e1-82c9-b6df925dab87",
   "metadata": {},
   "outputs": [
    {
     "name": "stdout",
     "output_type": "stream",
     "text": [
      "J =  [[ 1  6]\n",
      " [ 4 10]]\n",
      "K =  [[3 2]\n",
      " [3 8]]\n",
      "J * K =  [[ 3 12]\n",
      " [12 80]]\n"
     ]
    }
   ],
   "source": [
    "#12.Створіть дві матриці розміром 2x2, заповніть їх випадковими цілими числами в діапазоні \n",
    "#від 1 до 10 та виконайте їхнє поелементне множення.\n",
    "j = np.random.randint(1, 11, (2, 2))\n",
    "print('J = ', j)\n",
    "k = np.random.randint(1, 11, (2, 2))\n",
    "print('K = ', k)\n",
    "result = j*k\n",
    "print('J * K = ', result)"
   ]
  },
  {
   "cell_type": "code",
   "execution_count": 100,
   "id": "82c5b1ab-afc2-497b-99c3-a9f347544711",
   "metadata": {},
   "outputs": [
    {
     "name": "stdout",
     "output_type": "stream",
     "text": [
      "J =  [[5 9]\n",
      " [8 9]]\n",
      "K =  [[3 5]\n",
      " [6 8]]\n",
      "J * K =  [[ 69  97]\n",
      " [ 78 112]]\n"
     ]
    }
   ],
   "source": [
    "#13.Створіть дві матриці розміром 2x2, заповніть їх випадковими цілими числами в діапазоні \n",
    "#від 1 до 10 та знайдіть їх добуток.\n",
    "j = np.random.randint(1, 11, (2, 2))\n",
    "print('J = ', j)\n",
    "k = np.random.randint(1, 11, (2, 2))\n",
    "print('K = ', k)\n",
    "result = np.dot(j, k)\n",
    "print('J * K = ', result)"
   ]
  },
  {
   "cell_type": "code",
   "execution_count": 102,
   "id": "e79adfd4-9c74-4885-9982-7ba5bdd3cc43",
   "metadata": {},
   "outputs": [
    {
     "name": "stdout",
     "output_type": "stream",
     "text": [
      "J =  [[39 62 62 25 88]\n",
      " [61 37 22 52 67]\n",
      " [40 35 59 79 73]\n",
      " [71 76 26 63 16]\n",
      " [78 70 50 67 90]]\n",
      "sum =  1408\n"
     ]
    }
   ],
   "source": [
    "#14. Створіть матрицю розміром 5x5, заповніть її випадковими цілими числами в діапазоні \n",
    "#від 1 до 100 та знайдіть суму елементів матриці.\n",
    "j = np.random.randint(1, 101, (5, 5))\n",
    "print('J = ', j)\n",
    "print('sum = ', j.sum())"
   ]
  },
  {
   "cell_type": "code",
   "execution_count": 104,
   "id": "711d5cd4-8500-4bce-8459-971155e32ed9",
   "metadata": {},
   "outputs": [
    {
     "name": "stdout",
     "output_type": "stream",
     "text": [
      "J =  [[ 5  2  6  1]\n",
      " [ 3  8  8 10]\n",
      " [ 9  7  4  2]\n",
      " [ 6  8  1  2]]\n",
      "K =  [[1 5 7 8]\n",
      " [1 7 2 3]\n",
      " [1 7 9 8]\n",
      " [8 8 6 4]]\n",
      "J - K =  [[ 4 -3 -1 -7]\n",
      " [ 2  1  6  7]\n",
      " [ 8  0 -5 -6]\n",
      " [-2  0 -5 -2]]\n"
     ]
    }
   ],
   "source": [
    "#15.Створіть дві матриці розміром 4x4, заповніть їх випадковими цілими числами в діапазоні \n",
    "#від 1 до 10 та знайдіть їхню різницю.\n",
    "j = np.random.randint(1, 11, (4, 4))\n",
    "print('J = ', j)\n",
    "k = np.random.randint(1, 11, (4, 4))\n",
    "print('K = ', k)\n",
    "result = j- k\n",
    "print('J - K = ', result)"
   ]
  },
  {
   "cell_type": "code",
   "execution_count": 16,
   "id": "fa1df965-7db7-4e61-a0c9-68ea2ce6326d",
   "metadata": {},
   "outputs": [
    {
     "name": "stdout",
     "output_type": "stream",
     "text": [
      "M =  [[0.97305132 0.68100641 0.24751065]\n",
      " [0.25492131 0.17629252 0.13425694]\n",
      " [0.49846994 0.23534945 0.426285  ]]\n",
      "sum =  [[1.90156839]\n",
      " [0.56547077]\n",
      " [1.16010439]]\n"
     ]
    }
   ],
   "source": [
    "#16. Створіть матрицю розміром 3x3, заповніть її випадковими дійсними числами в діапазоні \n",
    "#від 0 до 1 та знайдіть вектор-стовпчик, що містить суму елементів кожного рядка матриці.\n",
    "m = np.random.random((3, 3))\n",
    "print('M = ', m)\n",
    "print('sum = ', (np.sum(m, axis=1)).reshape(-1, 1))"
   ]
  },
  {
   "cell_type": "code",
   "execution_count": 20,
   "id": "806aeccd-bca7-4a58-a245-a4b66b8ed819",
   "metadata": {},
   "outputs": [
    {
     "name": "stdout",
     "output_type": "stream",
     "text": [
      "K =  [[5 3 3 5]\n",
      " [2 2 3 3]\n",
      " [1 5 8 2]]\n",
      "K ^ 2 =  [[25  9  9 25]\n",
      " [ 4  4  9  9]\n",
      " [ 1 25 64  4]]\n"
     ]
    }
   ],
   "source": [
    "#17. Створіть матрицю розміром 3x4 з довільними цілими числами і створінь матрицю з квадратами цих чисел.\n",
    "k = np.random.randint(1, 10, (3, 4))\n",
    "print('K = ', k)\n",
    "print('K ^ 2 = ', np.square(k))"
   ]
  },
  {
   "cell_type": "code",
   "execution_count": 22,
   "id": "2fb78d1c-c740-4b80-9130-ead2932f46e3",
   "metadata": {},
   "outputs": [
    {
     "name": "stdout",
     "output_type": "stream",
     "text": [
      "n =  [32 49  1 32]\n",
      "n^2 =  [1024 2401    1 1024]\n"
     ]
    }
   ],
   "source": [
    "#18. Створіть вектор розміром 4, заповніть його випадковими цілими числами в діапазоні \n",
    "#від 1 до 50 та знайдіть вектор з квадратними коренями цих чисел.\n",
    "n=np.random.randint(1,51,4)\n",
    "print('n = ',n)\n",
    "result=np.square(n)\n",
    "print('n^2 = ',result)"
   ]
  },
  {
   "cell_type": "code",
   "execution_count": null,
   "id": "1bc45e63-aa4b-4c35-a2ae-ca4798f9298b",
   "metadata": {},
   "outputs": [],
   "source": []
  }
 ],
 "metadata": {
  "kernelspec": {
   "display_name": "anaconda-panel-2023.05-py310",
   "language": "python",
   "name": "conda-env-anaconda-panel-2023.05-py310-py"
  },
  "language_info": {
   "codemirror_mode": {
    "name": "ipython",
    "version": 3
   },
   "file_extension": ".py",
   "mimetype": "text/x-python",
   "name": "python",
   "nbconvert_exporter": "python",
   "pygments_lexer": "ipython3",
   "version": "3.11.5"
  }
 },
 "nbformat": 4,
 "nbformat_minor": 5
}
